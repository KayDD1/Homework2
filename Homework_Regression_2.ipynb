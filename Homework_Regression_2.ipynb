{
 "cells": [
  {
   "cell_type": "code",
   "execution_count": 1,
   "id": "e6667ca2",
   "metadata": {},
   "outputs": [
    {
     "name": "stdout",
     "output_type": "stream",
     "text": [
      "100% [..........................................................................] 1423529 / 1423529housing.csv\n"
     ]
    }
   ],
   "source": [
    "import wget\n",
    "filename =  \"https://raw.githubusercontent.com/alexeygrigorev/datasets/master/housing.csv\"\n",
    "data = wget.download(filename)\n",
    "print(data)"
   ]
  },
  {
   "cell_type": "code",
   "execution_count": 2,
   "id": "e8a28bce",
   "metadata": {},
   "outputs": [
    {
     "data": {
      "text/html": [
       "<div>\n",
       "<style scoped>\n",
       "    .dataframe tbody tr th:only-of-type {\n",
       "        vertical-align: middle;\n",
       "    }\n",
       "\n",
       "    .dataframe tbody tr th {\n",
       "        vertical-align: top;\n",
       "    }\n",
       "\n",
       "    .dataframe thead th {\n",
       "        text-align: right;\n",
       "    }\n",
       "</style>\n",
       "<table border=\"1\" class=\"dataframe\">\n",
       "  <thead>\n",
       "    <tr style=\"text-align: right;\">\n",
       "      <th></th>\n",
       "      <th>longitude</th>\n",
       "      <th>latitude</th>\n",
       "      <th>housing_median_age</th>\n",
       "      <th>total_rooms</th>\n",
       "      <th>total_bedrooms</th>\n",
       "      <th>population</th>\n",
       "      <th>households</th>\n",
       "      <th>median_income</th>\n",
       "      <th>median_house_value</th>\n",
       "      <th>ocean_proximity</th>\n",
       "    </tr>\n",
       "  </thead>\n",
       "  <tbody>\n",
       "    <tr>\n",
       "      <th>0</th>\n",
       "      <td>-122.23</td>\n",
       "      <td>37.88</td>\n",
       "      <td>41.0</td>\n",
       "      <td>880.0</td>\n",
       "      <td>129.0</td>\n",
       "      <td>322.0</td>\n",
       "      <td>126.0</td>\n",
       "      <td>8.3252</td>\n",
       "      <td>452600.0</td>\n",
       "      <td>NEAR BAY</td>\n",
       "    </tr>\n",
       "    <tr>\n",
       "      <th>1</th>\n",
       "      <td>-122.22</td>\n",
       "      <td>37.86</td>\n",
       "      <td>21.0</td>\n",
       "      <td>7099.0</td>\n",
       "      <td>1106.0</td>\n",
       "      <td>2401.0</td>\n",
       "      <td>1138.0</td>\n",
       "      <td>8.3014</td>\n",
       "      <td>358500.0</td>\n",
       "      <td>NEAR BAY</td>\n",
       "    </tr>\n",
       "    <tr>\n",
       "      <th>2</th>\n",
       "      <td>-122.24</td>\n",
       "      <td>37.85</td>\n",
       "      <td>52.0</td>\n",
       "      <td>1467.0</td>\n",
       "      <td>190.0</td>\n",
       "      <td>496.0</td>\n",
       "      <td>177.0</td>\n",
       "      <td>7.2574</td>\n",
       "      <td>352100.0</td>\n",
       "      <td>NEAR BAY</td>\n",
       "    </tr>\n",
       "    <tr>\n",
       "      <th>3</th>\n",
       "      <td>-122.25</td>\n",
       "      <td>37.85</td>\n",
       "      <td>52.0</td>\n",
       "      <td>1274.0</td>\n",
       "      <td>235.0</td>\n",
       "      <td>558.0</td>\n",
       "      <td>219.0</td>\n",
       "      <td>5.6431</td>\n",
       "      <td>341300.0</td>\n",
       "      <td>NEAR BAY</td>\n",
       "    </tr>\n",
       "    <tr>\n",
       "      <th>4</th>\n",
       "      <td>-122.25</td>\n",
       "      <td>37.85</td>\n",
       "      <td>52.0</td>\n",
       "      <td>1627.0</td>\n",
       "      <td>280.0</td>\n",
       "      <td>565.0</td>\n",
       "      <td>259.0</td>\n",
       "      <td>3.8462</td>\n",
       "      <td>342200.0</td>\n",
       "      <td>NEAR BAY</td>\n",
       "    </tr>\n",
       "  </tbody>\n",
       "</table>\n",
       "</div>"
      ],
      "text/plain": [
       "   longitude  latitude  housing_median_age  total_rooms  total_bedrooms  \\\n",
       "0    -122.23     37.88                41.0        880.0           129.0   \n",
       "1    -122.22     37.86                21.0       7099.0          1106.0   \n",
       "2    -122.24     37.85                52.0       1467.0           190.0   \n",
       "3    -122.25     37.85                52.0       1274.0           235.0   \n",
       "4    -122.25     37.85                52.0       1627.0           280.0   \n",
       "\n",
       "   population  households  median_income  median_house_value ocean_proximity  \n",
       "0       322.0       126.0         8.3252            452600.0        NEAR BAY  \n",
       "1      2401.0      1138.0         8.3014            358500.0        NEAR BAY  \n",
       "2       496.0       177.0         7.2574            352100.0        NEAR BAY  \n",
       "3       558.0       219.0         5.6431            341300.0        NEAR BAY  \n",
       "4       565.0       259.0         3.8462            342200.0        NEAR BAY  "
      ]
     },
     "execution_count": 2,
     "metadata": {},
     "output_type": "execute_result"
    }
   ],
   "source": [
    "import pandas as pd\n",
    "import numpy as np\n",
    "df = pd.read_csv(data)\n",
    "df.head()"
   ]
  },
  {
   "cell_type": "code",
   "execution_count": 3,
   "id": "04dc1899",
   "metadata": {},
   "outputs": [
    {
     "data": {
      "text/plain": [
       "Index(['longitude', 'latitude', 'housing_median_age', 'total_rooms',\n",
       "       'total_bedrooms', 'population', 'households', 'median_income',\n",
       "       'median_house_value', 'ocean_proximity'],\n",
       "      dtype='object')"
      ]
     },
     "execution_count": 3,
     "metadata": {},
     "output_type": "execute_result"
    }
   ],
   "source": [
    "df.columns"
   ]
  },
  {
   "cell_type": "code",
   "execution_count": 4,
   "id": "9f73aa7e",
   "metadata": {},
   "outputs": [
    {
     "data": {
      "image/png": "[encoded data removed]",
      "text/plain": [
       "<Figure size 640x480 with 1 Axes>"
      ]
     },
     "metadata": {},
     "output_type": "display_data"
    }
   ],
   "source": [
    "import matplotlib.pyplot as plt\n",
    "import seaborn as sns\n",
    "sns.histplot(df.median_house_value);"
   ]
  },
  {
   "cell_type": "code",
   "execution_count": 5,
   "id": "1d62152d",
   "metadata": {},
   "outputs": [],
   "source": [
    "df_ocean = df[(df.ocean_proximity == \"<1H OCEAN\")] \n",
    "df_inland = df[(df.ocean_proximity == \"INLAND\")]"
   ]
  },
  {
   "cell_type": "code",
   "execution_count": 6,
   "id": "d7f6a07e",
   "metadata": {},
   "outputs": [],
   "source": [
    "df_sample = pd.concat([df_ocean, df_inland])"
   ]
  },
  {
   "cell_type": "code",
   "execution_count": 7,
   "id": "007fad7e",
   "metadata": {},
   "outputs": [],
   "source": [
    "df_sample = df_sample[['longitude', 'latitude', 'housing_median_age', 'total_rooms',\n",
    "       'total_bedrooms', 'population', 'households', 'median_income',\n",
    "       'median_house_value']]"
   ]
  },
  {
   "cell_type": "code",
   "execution_count": 8,
   "id": "8b275856",
   "metadata": {},
   "outputs": [
    {
     "data": {
      "text/plain": [
       "longitude               0\n",
       "latitude                0\n",
       "housing_median_age      0\n",
       "total_rooms             0\n",
       "total_bedrooms        157\n",
       "population              0\n",
       "households              0\n",
       "median_income           0\n",
       "median_house_value      0\n",
       "dtype: int64"
      ]
     },
     "execution_count": 8,
     "metadata": {},
     "output_type": "execute_result"
    }
   ],
   "source": [
    "df_sample.isnull().sum()"
   ]
  },
  {
   "cell_type": "code",
   "execution_count": 9,
   "id": "3f931074",
   "metadata": {},
   "outputs": [
    {
     "data": {
      "text/html": [
       "<div>\n",
       "<style scoped>\n",
       "    .dataframe tbody tr th:only-of-type {\n",
       "        vertical-align: middle;\n",
       "    }\n",
       "\n",
       "    .dataframe tbody tr th {\n",
       "        vertical-align: top;\n",
       "    }\n",
       "\n",
       "    .dataframe thead th {\n",
       "        text-align: right;\n",
       "    }\n",
       "</style>\n",
       "<table border=\"1\" class=\"dataframe\">\n",
       "  <thead>\n",
       "    <tr style=\"text-align: right;\">\n",
       "      <th></th>\n",
       "      <th>longitude</th>\n",
       "      <th>latitude</th>\n",
       "      <th>housing_median_age</th>\n",
       "      <th>total_rooms</th>\n",
       "      <th>total_bedrooms</th>\n",
       "      <th>population</th>\n",
       "      <th>households</th>\n",
       "      <th>median_income</th>\n",
       "      <th>median_house_value</th>\n",
       "    </tr>\n",
       "  </thead>\n",
       "  <tbody>\n",
       "    <tr>\n",
       "      <th>count</th>\n",
       "      <td>15687.0</td>\n",
       "      <td>15687.0</td>\n",
       "      <td>15687.0</td>\n",
       "      <td>15687.0</td>\n",
       "      <td>15530.0</td>\n",
       "      <td>15687.0</td>\n",
       "      <td>15687.0</td>\n",
       "      <td>15687.0</td>\n",
       "      <td>15687.0</td>\n",
       "    </tr>\n",
       "    <tr>\n",
       "      <th>mean</th>\n",
       "      <td>-119.0</td>\n",
       "      <td>35.0</td>\n",
       "      <td>27.0</td>\n",
       "      <td>2666.0</td>\n",
       "      <td>541.0</td>\n",
       "      <td>1466.0</td>\n",
       "      <td>501.0</td>\n",
       "      <td>4.0</td>\n",
       "      <td>191943.0</td>\n",
       "    </tr>\n",
       "    <tr>\n",
       "      <th>std</th>\n",
       "      <td>2.0</td>\n",
       "      <td>2.0</td>\n",
       "      <td>12.0</td>\n",
       "      <td>2258.0</td>\n",
       "      <td>436.0</td>\n",
       "      <td>1180.0</td>\n",
       "      <td>393.0</td>\n",
       "      <td>2.0</td>\n",
       "      <td>108801.0</td>\n",
       "    </tr>\n",
       "    <tr>\n",
       "      <th>min</th>\n",
       "      <td>-124.0</td>\n",
       "      <td>33.0</td>\n",
       "      <td>1.0</td>\n",
       "      <td>2.0</td>\n",
       "      <td>2.0</td>\n",
       "      <td>3.0</td>\n",
       "      <td>2.0</td>\n",
       "      <td>0.0</td>\n",
       "      <td>14999.0</td>\n",
       "    </tr>\n",
       "    <tr>\n",
       "      <th>25%</th>\n",
       "      <td>-121.0</td>\n",
       "      <td>34.0</td>\n",
       "      <td>17.0</td>\n",
       "      <td>1441.0</td>\n",
       "      <td>295.0</td>\n",
       "      <td>802.0</td>\n",
       "      <td>278.0</td>\n",
       "      <td>3.0</td>\n",
       "      <td>111300.0</td>\n",
       "    </tr>\n",
       "    <tr>\n",
       "      <th>50%</th>\n",
       "      <td>-118.0</td>\n",
       "      <td>34.0</td>\n",
       "      <td>27.0</td>\n",
       "      <td>2118.0</td>\n",
       "      <td>432.0</td>\n",
       "      <td>1195.0</td>\n",
       "      <td>406.0</td>\n",
       "      <td>3.0</td>\n",
       "      <td>166900.0</td>\n",
       "    </tr>\n",
       "    <tr>\n",
       "      <th>75%</th>\n",
       "      <td>-118.0</td>\n",
       "      <td>37.0</td>\n",
       "      <td>36.0</td>\n",
       "      <td>3172.0</td>\n",
       "      <td>645.0</td>\n",
       "      <td>1777.0</td>\n",
       "      <td>602.0</td>\n",
       "      <td>5.0</td>\n",
       "      <td>241100.0</td>\n",
       "    </tr>\n",
       "    <tr>\n",
       "      <th>max</th>\n",
       "      <td>-114.0</td>\n",
       "      <td>42.0</td>\n",
       "      <td>52.0</td>\n",
       "      <td>39320.0</td>\n",
       "      <td>6445.0</td>\n",
       "      <td>35682.0</td>\n",
       "      <td>6082.0</td>\n",
       "      <td>15.0</td>\n",
       "      <td>500001.0</td>\n",
       "    </tr>\n",
       "  </tbody>\n",
       "</table>\n",
       "</div>"
      ],
      "text/plain": [
       "       longitude  latitude  housing_median_age  total_rooms  total_bedrooms  \\\n",
       "count    15687.0   15687.0             15687.0      15687.0         15530.0   \n",
       "mean      -119.0      35.0                27.0       2666.0           541.0   \n",
       "std          2.0       2.0                12.0       2258.0           436.0   \n",
       "min       -124.0      33.0                 1.0          2.0             2.0   \n",
       "25%       -121.0      34.0                17.0       1441.0           295.0   \n",
       "50%       -118.0      34.0                27.0       2118.0           432.0   \n",
       "75%       -118.0      37.0                36.0       3172.0           645.0   \n",
       "max       -114.0      42.0                52.0      39320.0          6445.0   \n",
       "\n",
       "       population  households  median_income  median_house_value  \n",
       "count     15687.0     15687.0        15687.0             15687.0  \n",
       "mean       1466.0       501.0            4.0            191943.0  \n",
       "std        1180.0       393.0            2.0            108801.0  \n",
       "min           3.0         2.0            0.0             14999.0  \n",
       "25%         802.0       278.0            3.0            111300.0  \n",
       "50%        1195.0       406.0            3.0            166900.0  \n",
       "75%        1777.0       602.0            5.0            241100.0  \n",
       "max       35682.0      6082.0           15.0            500001.0  "
      ]
     },
     "execution_count": 9,
     "metadata": {},
     "output_type": "execute_result"
    }
   ],
   "source": [
    "df_sample.describe().round()"
   ]
  },
  {
   "cell_type": "code",
   "execution_count": 10,
   "id": "446ae231",
   "metadata": {},
   "outputs": [
    {
     "data": {
      "text/plain": [
       "15687"
      ]
     },
     "execution_count": 10,
     "metadata": {},
     "output_type": "execute_result"
    }
   ],
   "source": [
    "len(df_sample)"
   ]
  },
  {
   "cell_type": "code",
   "execution_count": 11,
   "id": "90433559",
   "metadata": {},
   "outputs": [],
   "source": [
    "n = len(df_sample)"
   ]
  },
  {
   "cell_type": "code",
   "execution_count": 12,
   "id": "48d3ad4c",
   "metadata": {},
   "outputs": [
    {
     "data": {
      "text/plain": [
       "(15687, 3137, 3137, 9413, 15687)"
      ]
     },
     "execution_count": 12,
     "metadata": {},
     "output_type": "execute_result"
    }
   ],
   "source": [
    "n_val = int(n * 0.2)\n",
    "n_test = int(n * 0.2)\n",
    "n_train = n - n_val - n_test\n",
    "n, n_val, n_test, n_train, n_val+n_test+n_train"
   ]
  },
  {
   "cell_type": "code",
   "execution_count": 13,
   "id": "a71c4d03",
   "metadata": {},
   "outputs": [],
   "source": [
    "df_train = df_sample.iloc[:n_train]\n",
    "df_val = df_sample.iloc[n_train:n_train+n_val]\n",
    "df_test = df_sample.iloc[n_train+n_val:]"
   ]
  },
  {
   "cell_type": "code",
   "execution_count": 14,
   "id": "618b1972",
   "metadata": {},
   "outputs": [],
   "source": [
    "np.random.seed(42)\n",
    "idx = np.arange(n)\n",
    "np.random.shuffle(idx)"
   ]
  },
  {
   "cell_type": "code",
   "execution_count": 15,
   "id": "9a173398",
   "metadata": {},
   "outputs": [],
   "source": [
    "df_train = df_sample.iloc[idx[:n_train]]\n",
    "df_val = df_sample.iloc[idx[n_train:n_train+n_val]]\n",
    "df_test = df_sample.iloc[idx[n_train+n_val:]]"
   ]
  },
  {
   "cell_type": "code",
   "execution_count": 16,
   "id": "9371f22a",
   "metadata": {},
   "outputs": [],
   "source": [
    "df_train = df_train.reset_index(drop=True).copy()\n",
    "df_val = df_val.reset_index(drop=True).copy()\n",
    "df_test = df_test.reset_index(drop=True).copy()"
   ]
  },
  {
   "cell_type": "code",
   "execution_count": 17,
   "id": "7a5396be",
   "metadata": {},
   "outputs": [],
   "source": [
    "y_train = np.log1p(df_train['median_house_value'].values)\n",
    "y_val = np.log1p(df_val['median_house_value'].values)\n",
    "y_test = np.log1p(df_test['median_house_value'].values)"
   ]
  },
  {
   "cell_type": "code",
   "execution_count": 18,
   "id": "cf6aaabe",
   "metadata": {},
   "outputs": [],
   "source": [
    "del df_train['median_house_value']\n",
    "del df_val['median_house_value']\n",
    "del df_test['median_house_value']"
   ]
  },
  {
   "cell_type": "code",
   "execution_count": 19,
   "id": "8baf2bd7",
   "metadata": {},
   "outputs": [],
   "source": [
    "def train_linear_regression(X, y):\n",
    "    ones = np.ones(X.shape[0])\n",
    "    X = np.column_stack([ones, X])\n",
    "\n",
    "    XTX = X.T.dot(X)\n",
    "    XTX_inv = np.linalg.inv(XTX)\n",
    "    w_full = XTX_inv.dot(X.T).dot(y)\n",
    "\n",
    "    return w_full[0], w_full[1:]"
   ]
  },
  {
   "cell_type": "code",
   "execution_count": 20,
   "id": "fb92ccd5",
   "metadata": {},
   "outputs": [],
   "source": [
    "average_total_bedroom = df_train['total_bedrooms'].mean()\n",
    "zero = 0\n",
    "\n",
    "def missing_values(df, fill):\n",
    "    df.copy()\n",
    "    for col in df.columns:\n",
    "        if df[col].isnull().sum() > 0:\n",
    "            df[col] = df[col].fillna(fill)\n",
    "    return df"
   ]
  },
  {
   "cell_type": "code",
   "execution_count": 21,
   "id": "8c928a12",
   "metadata": {},
   "outputs": [],
   "source": [
    "X_zero = missing_values(df_train.copy(), zero).values"
   ]
  },
  {
   "cell_type": "code",
   "execution_count": 22,
   "id": "6eb8b110",
   "metadata": {},
   "outputs": [],
   "source": [
    "X_average = missing_values(df_train, average_total_bedroom).values"
   ]
  },
  {
   "cell_type": "code",
   "execution_count": 23,
   "id": "2e24c75b",
   "metadata": {},
   "outputs": [],
   "source": [
    "w0, w = train_linear_regression(X_zero, y_train)\n",
    "y_pred = w0 + X_zero.dot(w)"
   ]
  },
  {
   "cell_type": "code",
   "execution_count": 24,
   "id": "2a703e31",
   "metadata": {
    "scrolled": true
   },
   "outputs": [
    {
     "data": {
      "image/png": "[encoded data removed]",
      "text/plain": [
       "<Figure size 640x480 with 1 Axes>"
      ]
     },
     "metadata": {},
     "output_type": "display_data"
    }
   ],
   "source": [
    "sns.histplot(y_pred, color='red', alpha=0.5, bins=50)\n",
    "sns.histplot(y_train, color='blue', alpha=0.5, bins=50);"
   ]
  },
  {
   "cell_type": "code",
   "execution_count": 25,
   "id": "eb1a4fbc",
   "metadata": {},
   "outputs": [
    {
     "data": {
      "text/plain": [
       "0.34112464959900146"
      ]
     },
     "execution_count": 25,
     "metadata": {},
     "output_type": "execute_result"
    }
   ],
   "source": [
    "def rmse(y, y_pred):\n",
    "    se = (y - y_pred) ** 2\n",
    "    mse = se.mean()\n",
    "    return np.sqrt(mse)\n",
    "rmse(y_train, y_pred)"
   ]
  },
  {
   "cell_type": "code",
   "execution_count": 26,
   "id": "2cc7cc10",
   "metadata": {},
   "outputs": [
    {
     "data": {
      "text/plain": [
       "0.34089524162722107"
      ]
     },
     "execution_count": 26,
     "metadata": {},
     "output_type": "execute_result"
    }
   ],
   "source": [
    "w0, w = train_linear_regression(X_average, y_train)\n",
    "\n",
    "y_pred = w0 + X_average.dot(w)\n",
    "rmse(y_train, y_pred)"
   ]
  },
  {
   "cell_type": "code",
   "execution_count": 27,
   "id": "12b539c9",
   "metadata": {},
   "outputs": [
    {
     "data": {
      "text/plain": [
       "0.34"
      ]
     },
     "execution_count": 27,
     "metadata": {},
     "output_type": "execute_result"
    }
   ],
   "source": [
    "X_val = missing_values(df_val, average_total_bedroom).values\n",
    "\n",
    "\n",
    "w0, w = train_linear_regression(X_val, y_val)\n",
    "y_pred_avg = w0 + X_val.dot(w)\n",
    "rmse(y_val, y_pred_avg).round(2)"
   ]
  },
  {
   "cell_type": "code",
   "execution_count": 28,
   "id": "d8c0770c",
   "metadata": {},
   "outputs": [
    {
     "data": {
      "text/plain": [
       "0.34"
      ]
     },
     "execution_count": 28,
     "metadata": {},
     "output_type": "execute_result"
    }
   ],
   "source": [
    "X_val_zero = missing_values(df_val, zero).values\n",
    "\n",
    "w0, w = train_linear_regression(X_val_zero, y_val)\n",
    "y_pred_zero = w0 + X_val.dot(w)\n",
    "rmse(y_val, y_pred_zero).round(2)"
   ]
  },
  {
   "cell_type": "code",
   "execution_count": 29,
   "id": "9fd4d34b",
   "metadata": {},
   "outputs": [],
   "source": [
    "def train_linear_regression_reg(X, y, r):\n",
    "    ones = np.ones(X.shape[0])\n",
    "    X = np.column_stack([ones, X])\n",
    "\n",
    "    XTX = X.T.dot(X)\n",
    "    XTX = XTX + r * np.eye(XTX.shape[0])\n",
    "    \n",
    "    XTX_inv = np.linalg.inv(XTX)\n",
    "    w_full = XTX_inv.dot(X.T).dot(y)\n",
    "\n",
    "    return w_full[0], w_full[1:]"
   ]
  },
  {
   "cell_type": "code",
   "execution_count": 30,
   "id": "cb0499f4",
   "metadata": {},
   "outputs": [
    {
     "name": "stdout",
     "output_type": "stream",
     "text": [
      "0 -8.146196321960604 0.34\n",
      "1e-06 -8.146141699648526 0.34\n",
      "0.0001 -8.14073774758312 0.34\n",
      "0.001 -8.09193768021686 0.34\n",
      "0.01 -7.634285319899564 0.34\n",
      "0.1 -4.875941969318406 0.34\n",
      "1 -1.054944317623302 0.34\n",
      "5 -0.2331018974306134 0.34\n",
      "10 -0.11678177458273911 0.34\n"
     ]
    }
   ],
   "source": [
    "for r in [0, 0.000001, 0.0001, 0.001, 0.01, 0.1, 1, 5, 10]:\n",
    "    #X_val_zero = missing_values(df_val, zero).values\n",
    "    \n",
    "    w0 , w = train_linear_regression_reg(X_val_zero, y_val, r=r)\n",
    "\n",
    "    # Validation\n",
    "\n",
    "    y_pred = w0 + X_val_zero.dot(w)\n",
    "\n",
    "    score = rmse(y_val, y_pred_zero).round(2)\n",
    "    \n",
    "    print(r, w0, score)"
   ]
  },
  {
   "cell_type": "code",
   "execution_count": 31,
   "id": "d2043c66",
   "metadata": {},
   "outputs": [
    {
     "name": "stdout",
     "output_type": "stream",
     "text": [
      "0 0.33\n",
      "1 0.33\n",
      "2 0.35\n",
      "3 0.34\n",
      "4 0.35\n",
      "5 0.34\n",
      "6 0.34\n",
      "7 0.34\n",
      "8 0.34\n",
      "9 0.33\n"
     ]
    }
   ],
   "source": [
    "rmse_scores = []\n",
    "for s in [0,1,2,3,4,5,6,7,8,9]:\n",
    "    \n",
    "    np.random.seed(s)\n",
    "    idx = np.arange(n)\n",
    "    np.random.shuffle(idx)\n",
    "    \n",
    "    df_train = df_sample.iloc[idx[:n_train]]\n",
    "    df_val = df_sample.iloc[idx[n_train:n_train+n_val]]\n",
    "    df_test = df_sample.iloc[idx[n_train+n_val:]]\n",
    "    \n",
    "    df_train = df_train.reset_index(drop=True)\n",
    "    df_val = df_val.reset_index(drop=True)\n",
    "    df_test = df_test.reset_index(drop=True)\n",
    "    \n",
    "    y_train = np.log1p(df_train['median_house_value'].values)\n",
    "    y_val = np.log1p(df_val['median_house_value'].values)\n",
    "    y_test = np.log1p(df_test['median_house_value'].values)\n",
    "    \n",
    "    del df_train['median_house_value']\n",
    "    del df_val['median_house_value']\n",
    "    del df_test['median_house_value']\n",
    "    \n",
    "    X_zero = missing_values(df_train, zero).values\n",
    "    \n",
    "    w0, w = train_linear_regression(X_zero, y_train)\n",
    "    \n",
    "    X_val_zero = missing_values(df_val, zero)\n",
    "    \n",
    "    y_pred_seed = w0 + X_val_zero.dot(w)\n",
    "\n",
    "    score = np.round(rmse(y_val, y_pred_seed), 2)\n",
    "    \n",
    "    rmse_scores.append(score)\n",
    "    print(s, score)"
   ]
  },
  {
   "cell_type": "code",
   "execution_count": 32,
   "id": "bbcc1b4f",
   "metadata": {},
   "outputs": [
    {
     "name": "stdout",
     "output_type": "stream",
     "text": [
      "0.007\n"
     ]
    }
   ],
   "source": [
    "print(np.round(np.std(rmse_scores), 3))"
   ]
  },
  {
   "cell_type": "code",
   "execution_count": 39,
   "id": "b08fdef3",
   "metadata": {},
   "outputs": [
    {
     "name": "stdout",
     "output_type": "stream",
     "text": [
      "0.34\n"
     ]
    }
   ],
   "source": [
    "r=r\n",
    "s=42\n",
    "np.random.seed(s)\n",
    "idx = np.arange(n)\n",
    "np.random.shuffle(idx)\n",
    "\n",
    "df_train = df_sample.iloc[idx[:n_train]]\n",
    "df_val = df_sample.iloc[idx[n_train:n_train+n_val]]\n",
    "df_test = df_sample.iloc[idx[n_train+n_val:]]\n",
    "\n",
    "df_train = df_train.reset_index(drop=True)\n",
    "df_val = df_val.reset_index(drop=True)\n",
    "df_test = df_test.reset_index(drop=True)\n",
    "\n",
    "y_train = np.log1p(df_train['median_house_value'].values)\n",
    "y_val = np.log1p(df_val['median_house_value'].values)\n",
    "y_test = np.log1p(df_test['median_house_value'].values)\n",
    "\n",
    "del df_train['median_house_value']\n",
    "del df_val['median_house_value']\n",
    "del df_test['median_house_value']\n",
    "\n",
    "df_full_train = pd.concat([df_train, df_val])\n",
    "df_full_train = df_full_train.reset_index(drop=True)\n",
    "\n",
    "X_full_train = missing_values(df_full_train, zero).values\n",
    "y_full_train = np.concatenate([y_train, y_val])\n",
    "\n",
    "#X_zero = missing_values(df_train, zero).values\n",
    "\n",
    "w0, w = train_linear_regression_reg(X_full_train, y_full_train, r=r)\n",
    "\n",
    "X_test = missing_values(df_test, zero)\n",
    "\n",
    "y_pred_seed = w0 + X_test.dot(w)\n",
    "\n",
    "score = np.round(rmse(y_test, y_pred_seed), 2)\n",
    "\n",
    "rmse_scores.append(score)\n",
    "print(score)"
   ]
  },
  {
   "cell_type": "code",
   "execution_count": null,
   "id": "8c46cecc",
   "metadata": {},
   "outputs": [],
   "source": []
  }
 ],
 "metadata": {
  "kernelspec": {
   "display_name": "Python 3 (ipykernel)",
   "language": "python",
   "name": "python3"
  },
  "language_info": {
   "codemirror_mode": {
    "name": "ipython",
    "version": 3
   },
   "file_extension": ".py",
   "mimetype": "text/x-python",
   "name": "python",
   "nbconvert_exporter": "python",
   "pygments_lexer": "ipython3",
   "version": "3.7.9"
  }
 },
 "nbformat": 4,
 "nbformat_minor": 5
}
